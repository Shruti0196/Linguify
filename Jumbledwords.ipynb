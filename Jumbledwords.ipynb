{
  "nbformat": 4,
  "nbformat_minor": 0,
  "metadata": {
    "colab": {
      "provenance": [],
      "mount_file_id": "1UpWDP-PUuYyKooKs8yJyGJPZsXdLa1Ey",
      "authorship_tag": "ABX9TyNicwlwZalABnqwgCOPmVT4",
      "include_colab_link": true
    },
    "kernelspec": {
      "name": "python3",
      "display_name": "Python 3"
    },
    "language_info": {
      "name": "python"
    }
  },
  "cells": [
    {
      "cell_type": "markdown",
      "metadata": {
        "id": "view-in-github",
        "colab_type": "text"
      },
      "source": [
        "<a href=\"https://colab.research.google.com/github/Shruti0196/Linguify/blob/main/Jumbledwords.ipynb\" target=\"_parent\"><img src=\"https://colab.research.google.com/assets/colab-badge.svg\" alt=\"Open In Colab\"/></a>"
      ]
    },
    {
      "cell_type": "code",
      "source": [
        "!pip install Rich"
      ],
      "metadata": {
        "colab": {
          "base_uri": "https://localhost:8080/"
        },
        "id": "oMrZ12S-GA22",
        "outputId": "0eb347a1-5fa1-43b4-c42a-4c68ea22db64"
      },
      "execution_count": 1,
      "outputs": [
        {
          "output_type": "stream",
          "name": "stdout",
          "text": [
            "Requirement already satisfied: Rich in /usr/local/lib/python3.10/dist-packages (13.4.2)\n",
            "Requirement already satisfied: markdown-it-py>=2.2.0 in /usr/local/lib/python3.10/dist-packages (from Rich) (3.0.0)\n",
            "Requirement already satisfied: pygments<3.0.0,>=2.13.0 in /usr/local/lib/python3.10/dist-packages (from Rich) (2.14.0)\n",
            "Requirement already satisfied: mdurl~=0.1 in /usr/local/lib/python3.10/dist-packages (from markdown-it-py>=2.2.0->Rich) (0.1.2)\n"
          ]
        }
      ]
    },
    {
      "cell_type": "code",
      "source": [
        "from typing import List\n",
        "from random import shuffle, choice\n",
        "\n",
        "\n",
        "\n",
        "def get_sentences(filename: str) -> List:\n",
        "    with open(filename) as f:\n",
        "        sentences = list(set(f.read().splitlines()))\n",
        "        return sentences\n",
        "\n",
        "\n",
        "def get_jumbled(sentence: str) -> str:\n",
        "    splitted_words = sentence.split()\n",
        "    shuffle(splitted_words)\n",
        "    jumbled_sentence = \" / \".join(splitted_words)\n",
        "    return jumbled_sentence\n",
        "\n",
        "\n",
        "def game(number_of_questions: int) -> int:\n",
        "    game_is_continued = True\n",
        "    score = 0\n",
        "    count = 0\n",
        "    while game_is_continued:\n",
        "        correct_sentence = choice(get_sentences(\"/content/drive/MyDrive/LangLearn/sentences.txt\"))\n",
        "        jumbled_sentence = get_jumbled(correct_sentence)\n",
        "        print(f\"\\nHere's your sentence: \\n{jumbled_sentence}\")\n",
        "        user_sentence = input(\"\\nWrite your answer answer below\\n\")\n",
        "        if user_sentence.lower() == correct_sentence.lower():\n",
        "            score += 1\n",
        "            print('Correct Answer')\n",
        "        else:\n",
        "            print('Incorrect Answer')\n",
        "            print(f'Correct Answer : {correct_sentence}')\n",
        "        count += 1\n",
        "        if count == number_of_questions:\n",
        "            game_is_continued = False\n",
        "    return score\n",
        "\n",
        "\n",
        "if __name__ == \"__main__\":\n",
        "    print('Welcome to the GAME!!\\n')\n",
        "    number_of_questions = int(input(\"Please enter number of questions : \"))\n",
        "    if number_of_questions > 0:\n",
        "        final_score = game(number_of_questions)\n",
        "\n",
        "    print(f'Your final score is {final_score}')\n"
      ],
      "metadata": {
        "colab": {
          "base_uri": "https://localhost:8080/"
        },
        "id": "sh8qfezbF-P_",
        "outputId": "ffd0b2ae-233a-4f52-aa5e-d915924ba4bb"
      },
      "execution_count": 5,
      "outputs": [
        {
          "output_type": "stream",
          "name": "stdout",
          "text": [
            "Welcome to the GAME!!\n",
            "\n",
            "Please enter number of questions : 1\n",
            "\n",
            "Here's your sentence: \n",
            "she / hid / there'd / She / sufficient / thought / watch. / if / her / time / be\n",
            "\n",
            "Write your answer answer below\n",
            "She hid if her time\n",
            "Incorrect Answer\n",
            "Correct Answer : She thought there'd be sufficient time if she hid her watch.\n",
            "Your final score is 0\n"
          ]
        }
      ]
    }
  ]
}