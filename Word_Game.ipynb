{
  "nbformat": 4,
  "nbformat_minor": 0,
  "metadata": {
    "colab": {
      "provenance": [],
      "authorship_tag": "ABX9TyOPMJCfVSpwVviYtLpZ/QeZ",
      "include_colab_link": true
    },
    "kernelspec": {
      "name": "python3",
      "display_name": "Python 3"
    },
    "language_info": {
      "name": "python"
    }
  },
  "cells": [
    {
      "cell_type": "markdown",
      "metadata": {
        "id": "view-in-github",
        "colab_type": "text"
      },
      "source": [
        "<a href=\"https://colab.research.google.com/github/Shruti0196/Linguify/blob/main/Word_Game.ipynb\" target=\"_parent\"><img src=\"https://colab.research.google.com/assets/colab-badge.svg\" alt=\"Open In Colab\"/></a>"
      ]
    },
    {
      "cell_type": "code",
      "source": [
        "!pip install nltk==3.6.5"
      ],
      "metadata": {
        "colab": {
          "base_uri": "https://localhost:8080/"
        },
        "id": "XCSgw_59-LtA",
        "outputId": "f4f5ec2b-1751-4d3e-e052-42a2fb2bfc46"
      },
      "execution_count": null,
      "outputs": [
        {
          "output_type": "stream",
          "name": "stdout",
          "text": [
            "Collecting nltk==3.6.5\n",
            "  Downloading nltk-3.6.5-py3-none-any.whl (1.5 MB)\n",
            "\u001b[?25l     \u001b[90m━━━━━━━━━━━━━━━━━━━━━━━━━━━━━━━━━━━━━━━━\u001b[0m \u001b[32m0.0/1.5 MB\u001b[0m \u001b[31m?\u001b[0m eta \u001b[36m-:--:--\u001b[0m\r\u001b[2K     \u001b[91m━━━━━━━━━━━━━━━━━\u001b[0m\u001b[91m╸\u001b[0m\u001b[90m━━━━━━━━━━━━━━━━━━━━━━\u001b[0m \u001b[32m0.6/1.5 MB\u001b[0m \u001b[31m18.9 MB/s\u001b[0m eta \u001b[36m0:00:01\u001b[0m\r\u001b[2K     \u001b[91m━━━━━━━━━━━━━━━━━━━━━━━━━━━━━━━━━━━━━━━\u001b[0m\u001b[91m╸\u001b[0m \u001b[32m1.5/1.5 MB\u001b[0m \u001b[31m29.5 MB/s\u001b[0m eta \u001b[36m0:00:01\u001b[0m\r\u001b[2K     \u001b[90m━━━━━━━━━━━━━━━━━━━━━━━━━━━━━━━━━━━━━━━━\u001b[0m \u001b[32m1.5/1.5 MB\u001b[0m \u001b[31m19.2 MB/s\u001b[0m eta \u001b[36m0:00:00\u001b[0m\n",
            "\u001b[?25hRequirement already satisfied: click in /usr/local/lib/python3.10/dist-packages (from nltk==3.6.5) (8.1.4)\n",
            "Requirement already satisfied: joblib in /usr/local/lib/python3.10/dist-packages (from nltk==3.6.5) (1.3.1)\n",
            "Requirement already satisfied: regex>=2021.8.3 in /usr/local/lib/python3.10/dist-packages (from nltk==3.6.5) (2022.10.31)\n",
            "Requirement already satisfied: tqdm in /usr/local/lib/python3.10/dist-packages (from nltk==3.6.5) (4.65.0)\n",
            "Installing collected packages: nltk\n",
            "  Attempting uninstall: nltk\n",
            "    Found existing installation: nltk 3.8.1\n",
            "    Uninstalling nltk-3.8.1:\n",
            "      Successfully uninstalled nltk-3.8.1\n",
            "Successfully installed nltk-3.6.5\n"
          ]
        }
      ]
    },
    {
      "cell_type": "code",
      "source": [
        "!pip install pygtrie==2.4.2"
      ],
      "metadata": {
        "colab": {
          "base_uri": "https://localhost:8080/"
        },
        "id": "w7X6X_4N-N5N",
        "outputId": "2ef054bf-ab1c-4660-d969-015ae1effd67"
      },
      "execution_count": null,
      "outputs": [
        {
          "output_type": "stream",
          "name": "stdout",
          "text": [
            "Requirement already satisfied: pygtrie==2.4.2 in /usr/local/lib/python3.10/dist-packages (2.4.2)\n",
            "\u001b[31mERROR: Operation cancelled by user\u001b[0m\u001b[31m\n",
            "\u001b[0mTraceback (most recent call last):\n",
            "  File \"/usr/local/lib/python3.10/dist-packages/pip/_vendor/pkg_resources/__init__.py\", line 3108, in _dep_map\n",
            "    return self.__dep_map\n",
            "  File \"/usr/local/lib/python3.10/dist-packages/pip/_vendor/pkg_resources/__init__.py\", line 2901, in __getattr__\n",
            "    raise AttributeError(attr)\n",
            "AttributeError: _DistInfoDistribution__dep_map\n",
            "\n",
            "During handling of the above exception, another exception occurred:\n",
            "\n",
            "Traceback (most recent call last):\n",
            "  File \"/usr/local/lib/python3.10/dist-packages/pip/_internal/cli/base_command.py\", line 169, in exc_logging_wrapper\n",
            "    status = run_func(*args)\n",
            "  File \"/usr/local/lib/python3.10/dist-packages/pip/_internal/cli/req_command.py\", line 242, in wrapper\n",
            "    return func(self, options, args)\n",
            "  File \"/usr/local/lib/python3.10/dist-packages/pip/_internal/commands/install.py\", line 441, in run\n",
            "    conflicts = self._determine_conflicts(to_install)\n",
            "  File \"/usr/local/lib/python3.10/dist-packages/pip/_internal/commands/install.py\", line 572, in _determine_conflicts\n",
            "    return check_install_conflicts(to_install)\n",
            "  File \"/usr/local/lib/python3.10/dist-packages/pip/_internal/operations/check.py\", line 101, in check_install_conflicts\n",
            "    package_set, _ = create_package_set_from_installed()\n",
            "  File \"/usr/local/lib/python3.10/dist-packages/pip/_internal/operations/check.py\", line 42, in create_package_set_from_installed\n",
            "    dependencies = list(dist.iter_dependencies())\n",
            "  File \"/usr/local/lib/python3.10/dist-packages/pip/_internal/metadata/pkg_resources.py\", line 216, in iter_dependencies\n",
            "    return self._dist.requires(extras)\n",
            "  File \"/usr/local/lib/python3.10/dist-packages/pip/_vendor/pkg_resources/__init__.py\", line 2821, in requires\n",
            "    dm = self._dep_map\n",
            "  File \"/usr/local/lib/python3.10/dist-packages/pip/_vendor/pkg_resources/__init__.py\", line 3110, in _dep_map\n",
            "    self.__dep_map = self._compute_dependencies()\n",
            "  File \"/usr/local/lib/python3.10/dist-packages/pip/_vendor/pkg_resources/__init__.py\", line 3120, in _compute_dependencies\n",
            "    reqs.extend(parse_requirements(req))\n",
            "  File \"/usr/local/lib/python3.10/dist-packages/pip/_vendor/pkg_resources/__init__.py\", line 3173, in __init__\n",
            "    super(Requirement, self).__init__(requirement_string)\n",
            "  File \"/usr/local/lib/python3.10/dist-packages/pip/_vendor/packaging/requirements.py\", line 102, in __init__\n",
            "    req = REQUIREMENT.parseString(requirement_string)\n",
            "  File \"/usr/local/lib/python3.10/dist-packages/pip/_vendor/pyparsing/core.py\", line 1131, in parse_string\n",
            "    loc, tokens = self._parse(instring, 0)\n",
            "  File \"/usr/local/lib/python3.10/dist-packages/pip/_vendor/pyparsing/core.py\", line 817, in _parseNoCache\n",
            "    loc, tokens = self.parseImpl(instring, pre_loc, doActions)\n",
            "  File \"/usr/local/lib/python3.10/dist-packages/pip/_vendor/pyparsing/core.py\", line 3886, in parseImpl\n",
            "    loc, exprtokens = e._parse(instring, loc, doActions)\n",
            "  File \"/usr/local/lib/python3.10/dist-packages/pip/_vendor/pyparsing/core.py\", line 817, in _parseNoCache\n",
            "    loc, tokens = self.parseImpl(instring, pre_loc, doActions)\n",
            "  File \"/usr/local/lib/python3.10/dist-packages/pip/_vendor/pyparsing/core.py\", line 4114, in parseImpl\n",
            "    return e._parse(\n",
            "  File \"/usr/local/lib/python3.10/dist-packages/pip/_vendor/pyparsing/core.py\", line 817, in _parseNoCache\n",
            "    loc, tokens = self.parseImpl(instring, pre_loc, doActions)\n",
            "  File \"/usr/local/lib/python3.10/dist-packages/pip/_vendor/pyparsing/core.py\", line 3886, in parseImpl\n",
            "    loc, exprtokens = e._parse(instring, loc, doActions)\n",
            "  File \"/usr/local/lib/python3.10/dist-packages/pip/_vendor/pyparsing/core.py\", line 817, in _parseNoCache\n",
            "    loc, tokens = self.parseImpl(instring, pre_loc, doActions)\n",
            "  File \"/usr/local/lib/python3.10/dist-packages/pip/_vendor/pyparsing/core.py\", line 4959, in parseImpl\n",
            "    loc, tokens = self_expr._parse(instring, loc, doActions, callPreParse=False)\n",
            "  File \"/usr/local/lib/python3.10/dist-packages/pip/_vendor/pyparsing/core.py\", line 817, in _parseNoCache\n",
            "    loc, tokens = self.parseImpl(instring, pre_loc, doActions)\n",
            "  File \"/usr/local/lib/python3.10/dist-packages/pip/_vendor/pyparsing/core.py\", line 3886, in parseImpl\n",
            "    loc, exprtokens = e._parse(instring, loc, doActions)\n",
            "  File \"/usr/local/lib/python3.10/dist-packages/pip/_vendor/pyparsing/core.py\", line 856, in _parseNoCache\n",
            "    tokens = fn(instring, tokens_start, ret_tokens)\n",
            "  File \"/usr/local/lib/python3.10/dist-packages/pip/_vendor/pyparsing/core.py\", line 291, in wrapper\n",
            "    ret = func(*args[limit:])\n",
            "  File \"/usr/local/lib/python3.10/dist-packages/pip/_vendor/packaging/requirements.py\", line 71, in <lambda>\n",
            "    lambda s, l, t: Marker(s[t._original_start : t._original_end])\n",
            "  File \"/usr/local/lib/python3.10/dist-packages/pip/_vendor/packaging/markers.py\", line 278, in __init__\n",
            "    self._markers = _coerce_parse_result(MARKER.parseString(marker))\n",
            "  File \"/usr/local/lib/python3.10/dist-packages/pip/_vendor/pyparsing/core.py\", line 1131, in parse_string\n",
            "    loc, tokens = self._parse(instring, 0)\n",
            "  File \"/usr/local/lib/python3.10/dist-packages/pip/_vendor/pyparsing/core.py\", line 817, in _parseNoCache\n",
            "    loc, tokens = self.parseImpl(instring, pre_loc, doActions)\n",
            "  File \"/usr/local/lib/python3.10/dist-packages/pip/_vendor/pyparsing/core.py\", line 3886, in parseImpl\n",
            "    loc, exprtokens = e._parse(instring, loc, doActions)\n",
            "  File \"/usr/local/lib/python3.10/dist-packages/pip/_vendor/pyparsing/core.py\", line 817, in _parseNoCache\n",
            "    loc, tokens = self.parseImpl(instring, pre_loc, doActions)\n",
            "  File \"/usr/local/lib/python3.10/dist-packages/pip/_vendor/pyparsing/core.py\", line 5226, in parseImpl\n",
            "    return super().parseImpl(instring, loc, doActions)\n",
            "  File \"/usr/local/lib/python3.10/dist-packages/pip/_vendor/pyparsing/core.py\", line 4375, in parseImpl\n",
            "    return self.expr._parse(instring, loc, doActions, callPreParse=False)\n",
            "  File \"/usr/local/lib/python3.10/dist-packages/pip/_vendor/pyparsing/core.py\", line 817, in _parseNoCache\n",
            "    loc, tokens = self.parseImpl(instring, pre_loc, doActions)\n",
            "  File \"/usr/local/lib/python3.10/dist-packages/pip/_vendor/pyparsing/core.py\", line 3886, in parseImpl\n",
            "    loc, exprtokens = e._parse(instring, loc, doActions)\n",
            "  File \"/usr/local/lib/python3.10/dist-packages/pip/_vendor/pyparsing/core.py\", line 817, in _parseNoCache\n",
            "    loc, tokens = self.parseImpl(instring, pre_loc, doActions)\n",
            "  File \"/usr/local/lib/python3.10/dist-packages/pip/_vendor/pyparsing/core.py\", line 4891, in parseImpl\n",
            "    return super().parseImpl(instring, loc, doActions)\n",
            "  File \"/usr/local/lib/python3.10/dist-packages/pip/_vendor/pyparsing/core.py\", line 4779, in parseImpl\n",
            "    def parseImpl(self, instring, loc, doActions=True):\n",
            "KeyboardInterrupt\n",
            "\n",
            "During handling of the above exception, another exception occurred:\n",
            "\n",
            "Traceback (most recent call last):\n",
            "  File \"/usr/local/bin/pip3\", line 8, in <module>\n",
            "    sys.exit(main())\n",
            "  File \"/usr/local/lib/python3.10/dist-packages/pip/_internal/cli/main.py\", line 79, in main\n",
            "    return command.main(cmd_args)\n",
            "  File \"/usr/local/lib/python3.10/dist-packages/pip/_internal/cli/base_command.py\", line 101, in main\n",
            "    return self._main(args)\n",
            "  File \"/usr/local/lib/python3.10/dist-packages/pip/_internal/cli/base_command.py\", line 223, in _main\n",
            "    return run(options, args)\n",
            "  File \"/usr/local/lib/python3.10/dist-packages/pip/_internal/cli/base_command.py\", line 206, in exc_logging_wrapper\n",
            "    logger.critical(\"Operation cancelled by user\")\n",
            "  File \"/usr/lib/python3.10/logging/__init__.py\", line 1524, in critical\n",
            "    self._log(CRITICAL, msg, args, **kwargs)\n",
            "  File \"/usr/lib/python3.10/logging/__init__.py\", line 1624, in _log\n",
            "    self.handle(record)\n",
            "  File \"/usr/lib/python3.10/logging/__init__.py\", line 1634, in handle\n",
            "    self.callHandlers(record)\n",
            "  File \"/usr/lib/python3.10/logging/__init__.py\", line 1696, in callHandlers\n",
            "    hdlr.handle(record)\n",
            "  File \"/usr/lib/python3.10/logging/__init__.py\", line 968, in handle\n",
            "    self.emit(record)\n",
            "  File \"/usr/lib/python3.10/logging/handlers.py\", line 75, in emit\n",
            "    logging.FileHandler.emit(self, record)\n",
            "  File \"/usr/lib/python3.10/logging/__init__.py\", line 1218, in emit\n",
            "    StreamHandler.emit(self, record)\n",
            "  File \"/usr/lib/python3.10/logging/__init__.py\", line 1100, in emit\n",
            "    msg = self.format(record)\n",
            "  File \"/usr/lib/python3.10/logging/__init__.py\", line 943, in format\n",
            "    return fmt.format(record)\n",
            "  File \"/usr/local/lib/python3.10/dist-packages/pip/_internal/utils/logging.py\", line 112, in format\n",
            "    formatted = super().format(record)\n",
            "  File \"/usr/lib/python3.10/logging/__init__.py\", line 665, in format\n",
            "    def format(self, record):\n",
            "KeyboardInterrupt\n",
            "^C\n"
          ]
        }
      ]
    },
    {
      "cell_type": "code",
      "source": [
        "import nltk\n",
        "nltk.download('words')\n",
        "dictionary = nltk.corpus.words.words()\n",
        "\n",
        "print(len(dictionary))"
      ],
      "metadata": {
        "colab": {
          "base_uri": "https://localhost:8080/"
        },
        "id": "YaXghcm6-Iz6",
        "outputId": "bf5de60e-cbd5-4898-f964-a4cf7aa2e08b"
      },
      "execution_count": null,
      "outputs": [
        {
          "output_type": "stream",
          "name": "stdout",
          "text": [
            "236736\n"
          ]
        },
        {
          "output_type": "stream",
          "name": "stderr",
          "text": [
            "[nltk_data] Downloading package words to /root/nltk_data...\n",
            "[nltk_data]   Package words is already up-to-date!\n"
          ]
        }
      ]
    },
    {
      "cell_type": "code",
      "source": [
        "from nltk.corpus import words\n",
        "import string\n",
        "from pygtrie import CharTrie\n",
        "\n",
        "# Returns list of words from the nltk corpus\n",
        "def get_dictionary(corpus=words.words()):\n",
        "    # Remove words greater than 4 letters\n",
        "    corpus = list(filter(lambda x: len(x) >= 4, corpus))\n",
        "\n",
        "    # Remove words starting with capital letters because they are likely to be names\n",
        "    corpus = list(filter(lambda x: x[0] not in string.ascii_uppercase, corpus))\n",
        "\n",
        "    output = CharTrie()\n",
        "    for word in corpus:\n",
        "        output[word] = True\n",
        "\n",
        "    return output\n",
        "\n",
        "dictionary = get_dictionary()\n",
        "\n",
        "print(len(dictionary))\n",
        "# >>> 209410\n",
        "\n",
        "print(dictionary.keys()[:10])  # Display the first 10 words in the dictionary\n",
        "# >>> ['aalii', 'aardvark', 'aardwolf', 'abac', 'abaca', 'abacate', 'abacay', 'abacinate', 'abacination', 'abaciscus']\n",
        "\n",
        "print(dictionary.keys(\"mediu\"))  # Search the dictionary for words that start with the prefix \"mediu\"\n",
        "# >>> ['medium', 'mediumism', 'mediumistic', 'mediumization', 'mediumize', 'mediumship', 'medius']\n"
      ],
      "metadata": {
        "colab": {
          "base_uri": "https://localhost:8080/"
        },
        "id": "9C135yqfxb5S",
        "outputId": "f67f3d40-46f5-4f4f-d3fc-bebc6834b22e"
      },
      "execution_count": null,
      "outputs": [
        {
          "output_type": "stream",
          "name": "stdout",
          "text": [
            "209410\n",
            "['aalii', 'aardvark', 'aardwolf', 'abac', 'abaca', 'abacate', 'abacay', 'abacinate', 'abacination', 'abaciscus']\n",
            "['medium', 'mediumism', 'mediumistic', 'mediumization', 'mediumize', 'mediumship', 'medius']\n"
          ]
        }
      ]
    },
    {
      "cell_type": "code",
      "source": [
        "# from preprocessing_simple import dictionary\n",
        "\n",
        "# Returns list of words that start with a particular prefix as well as the next possible letters\n",
        "def search(dictionary, prefix):\n",
        "    try:\n",
        "        possible_words = dictionary.keys(prefix)\n",
        "    except KeyError:  # No word starting with the prefix exists\n",
        "        return [], []\n",
        "\n",
        "    try:\n",
        "        possible_letters = sorted(list(set([word[len(prefix)] for word in possible_words])))\n",
        "    except IndexError:  # Prefix is already a word\n",
        "        return possible_words, []\n",
        "\n",
        "    return possible_words, possible_letters\n",
        "\n",
        "# Returns whether the player wins if the word is formed\n",
        "def get_score(player, word):\n",
        "    parity = len(word) % 2\n",
        "    score = parity ^ (player % 2)\n",
        "    return score\n",
        "\n",
        "print(search(dictionary, \"mediu\"))\n",
        "# >>> (['medium', 'mediumism', 'mediumistic', 'mediumization', 'mediumize', 'mediumship', 'medius'], ['m', 's'])\n",
        "\n",
        "print(get_score(1, \"medium\"))\n",
        "# >>> 1\n",
        "\n",
        "print(get_score(2, \"medium\"))\n",
        "# >>> 0"
      ],
      "metadata": {
        "colab": {
          "base_uri": "https://localhost:8080/"
        },
        "id": "Q9ufLGxHxkgJ",
        "outputId": "1cd46657-7dbb-4cd4-e0bb-f447a86ad8cd"
      },
      "execution_count": null,
      "outputs": [
        {
          "output_type": "stream",
          "name": "stdout",
          "text": [
            "(['medium', 'mediumism', 'mediumistic', 'mediumization', 'mediumize', 'mediumship', 'medius'], ['m', 's'])\n",
            "1\n",
            "0\n"
          ]
        }
      ]
    },
    {
      "cell_type": "code",
      "source": [
        "def value(prefix, player, players_turn):\n",
        "    possible_words, possible_letters = search(dictionary, prefix)\n",
        "\n",
        "    if len(possible_letters) == 0:  # Check if game state is terminal\n",
        "        return get_score(player, possible_words[0])\n",
        "\n",
        "    if players_turn:  # Max if it is player's turn\n",
        "        v = -float(\"inf\")\n",
        "        for letter in possible_letters:\n",
        "            v = max(v, value(prefix+letter, player, 0))\n",
        "    else:  # Min if it is opponent's turn\n",
        "        v = float(\"inf\")\n",
        "        for letter in possible_letters:\n",
        "            v = min(v, value(prefix+letter, player, 1))\n",
        "\n",
        "    return v"
      ],
      "metadata": {
        "id": "3-RBsF-ixxMT"
      },
      "execution_count": null,
      "outputs": []
    },
    {
      "cell_type": "code",
      "source": [
        "from functools import wraps\n",
        "from time import time\n",
        "# from preprocessing_simple import dictionary\n",
        "\n",
        "\n",
        "# Decorator to determine how long a function takes to run\n",
        "def timing(f):\n",
        "    @wraps(f)\n",
        "    def wrap(*args, **kwargs):\n",
        "        start = time()\n",
        "        result = f(*args, **kwargs)\n",
        "        end = time()\n",
        "        print(f'{f.__name__} took {(end-start):.3f}s to run\\n')\n",
        "        return result\n",
        "    return wrap"
      ],
      "metadata": {
        "id": "eXyEU0jiyZJP"
      },
      "execution_count": null,
      "outputs": []
    },
    {
      "cell_type": "code",
      "source": [
        "\n",
        "\n",
        "@timing\n",
        "def main(prefix):\n",
        "    possible_words, possible_letters = search(dictionary, prefix)\n",
        "\n",
        "    if len(possible_words) == 0:   # Ensure that the letters typed in can be used to form a word\n",
        "        print(\"No word can be formed!\\n\")\n",
        "        return\n",
        "\n",
        "    if len(possible_letters) == 0:  # If prefix is already an actual word\n",
        "        print(prefix, \"is already a word!\\n\")\n",
        "        return\n",
        "\n",
        "    player = (len(prefix)+1) % 2  # Assume that the player who plays the next letter wants to win\n",
        "\n",
        "    if len(possible_words) == 1:  # If only one possible word can be formed with prefix\n",
        "        word = possible_words[0]\n",
        "        print(\"The only possible word is\", word)\n",
        "        print(\"You win!\\n\") if get_score(player, word) == 1 else print(\"You lose:(\\n\")\n",
        "        return\n",
        "\n",
        "    scores = [value(prefix + letter, player, 0) for letter in possible_letters]\n",
        "    best_letters = [possible_letters[i] for i in range(len(scores)) if scores[i] == 1]\n",
        "\n",
        "    if not best_letters:  # If there is no possible way to win, just show all possible letters\n",
        "        print(\"There are no winning letters\")\n",
        "        print(\"Possible letters: \", \", \".join(possible_letters), \"\\n\")\n",
        "        return\n",
        "\n",
        "    print(\"Best letters to pick are:\", \", \".join(best_letters), \"\\n\")\n",
        "\n",
        "main(input(\"Starting letters: \"))\n",
        "# >>> Starting letters:\n",
        "# >>> Best letters to pick are: a, e, h, l"
      ],
      "metadata": {
        "colab": {
          "base_uri": "https://localhost:8080/"
        },
        "id": "Wil9NFIox7Jx",
        "outputId": "8be77afe-06e2-4eec-d80e-99bba3b4537e"
      },
      "execution_count": null,
      "outputs": [
        {
          "output_type": "stream",
          "name": "stdout",
          "text": [
            "Starting letters: m\n",
            "Best letters to pick are: b, l, p \n",
            "\n",
            "main took 0.574s to run\n",
            "\n"
          ]
        }
      ]
    },
    {
      "cell_type": "code",
      "source": [
        "# from nltk.corpus import words\n",
        "# import string\n",
        "# from pygtrie import CharTrie\n",
        "\n",
        "\n",
        "# # Returns list of words from the nltk corpus\n",
        "# def get_dictionary(corpus=words.words()):\n",
        "#     # Remove words greater than 4 letters\n",
        "#     corpus = list(filter(lambda x: len(x) >= 4, corpus))\n",
        "\n",
        "#     # Remove words starting with capital letters because they are likely to be names\n",
        "#     corpus = list(filter(lambda x: x[0] not in string.ascii_uppercase, corpus))\n",
        "\n",
        "#     output = CharTrie()\n",
        "#     for word in corpus:\n",
        "#         output[word] = True\n",
        "\n",
        "#     return output\n",
        "\n",
        "\n",
        "# dictionary = get_dictionary()\n",
        "\n",
        "# print(len(dictionary))\n",
        "# >>> 209410\n",
        "\n",
        "# print(dictionary.keys()[:10])  # Display the first 10 words in the dictionary\n",
        "# >>> ['aalii', 'aardvark', 'aardwolf', 'abac', 'abaca', 'abacate', 'abacay', 'abacinate', 'abacination', 'abaciscus']\n",
        "\n",
        "# print(dictionary.keys(\"mediu\"))  # Search the dictionary for words that start with the prefix \"mediu\"\n",
        "# >>> ['medium', 'mediumism', 'mediumistic', 'mediumization', 'mediumize', 'mediumship', 'medius']"
      ],
      "metadata": {
        "id": "DCByM07Z8v64"
      },
      "execution_count": null,
      "outputs": []
    },
    {
      "cell_type": "code",
      "execution_count": null,
      "metadata": {
        "id": "BhmYnt7f7xln"
      },
      "outputs": [],
      "source": [
        "from functools import wraps\n",
        "from time import time\n",
        "# from preprocessing_simple import dictionary\n",
        "\n",
        "\n",
        "# Decorator to determine how long a function takes to run\n",
        "def timing(f):\n",
        "    @wraps(f)\n",
        "    def wrap(*args, **kwargs):\n",
        "        start = time()\n",
        "        result = f(*args, **kwargs)\n",
        "        end = time()\n",
        "        print(f'{f.__name__} took {(end-start):.3f}s to run\\n')\n",
        "        return result\n",
        "    return wrap\n",
        "\n",
        "\n",
        "# Returns list of words that start with a particular prefix as well as the next possible letters\n",
        "def search(dictionary, prefix):\n",
        "    try:\n",
        "        possible_words = dictionary.keys(prefix)\n",
        "    except KeyError:  # No word starting with the prefix exists\n",
        "        return [], []\n",
        "\n",
        "    try:\n",
        "        possible_letters = sorted(list(set([word[len(prefix)] for word in possible_words])))\n",
        "    except IndexError:  # Prefix is already a word\n",
        "        return possible_words, []\n",
        "\n",
        "    return possible_words, possible_letters\n",
        "\n",
        "\n",
        "# Returns whether the player wins if the word is formed\n",
        "def get_score(player, word):\n",
        "    parity = len(word) % 2\n",
        "    score = parity ^ (player % 2)\n",
        "    return score\n",
        "\n",
        "\n",
        "# print(search(dictionary, \"mediu\"))\n",
        "# >>> (['medium', 'mediumism', 'mediumistic', 'mediumization', 'mediumize', 'mediumship', 'medius'], ['m', 's'])\n",
        "\n",
        "# print(get_score(1, \"medium\"))\n",
        "# >>> 1\n",
        "\n",
        "# print(get_score(2, \"medium\"))\n",
        "# >>> 0"
      ]
    },
    {
      "cell_type": "code",
      "source": [
        "from nltk.corpus import words\n",
        "import string\n",
        "from pygtrie import CharTrie\n",
        "import json\n",
        "\n",
        "\n",
        "# Recursively remove words that contain another word as prefix\n",
        "# def remove_unnecessary_words(corpus, prefix):\n",
        "#     # Base cases\n",
        "#     if len(corpus) == 0:  # If there are no words that start with the prefix\n",
        "#         return []\n",
        "#     if corpus[0] == \"\":  # If the prefix is a word\n",
        "#         return [prefix]\n",
        "\n",
        "#     new_dictionary = []\n",
        "\n",
        "#     for i in string.ascii_lowercase:\n",
        "#         possible_words = list(filter(lambda x: x.startswith(i), corpus))  # Find words that start with the next letter\n",
        "#         remaining_letters = list(map(lambda x: x[1:], possible_words))  # Get remaining letters for the possible words\n",
        "\n",
        "#         new_dictionary += remove_unnecessary_words(remaining_letters, prefix + i)\n",
        "\n",
        "#     return new_dictionary\n",
        "\n",
        "\n",
        "# Load dictionary file if it exists else create a new one\n",
        "# def get_dictionary(corpus=words.words()):\n",
        "#     try:\n",
        "#         with open(\"dictionary.txt\", \"r\") as d:\n",
        "#             corpus = json.load(d)\n",
        "\n",
        "#     except FileNotFoundError:\n",
        "#         # Remove words greater than 4 letters\n",
        "#         corpus = list(filter(lambda x: len(x) >= 4, corpus))\n",
        "\n",
        "#         # Remove words starting with capital letters because they are likely to be names\n",
        "#         corpus = list(filter(lambda x: x[0] not in string.ascii_uppercase, corpus))\n",
        "\n",
        "#         # Remove words that contain another word as a prefix\n",
        "#         corpus = remove_unnecessary_words(corpus, \"\")\n",
        "\n",
        "#         with open(\"dictionary.txt\", \"w\") as d:\n",
        "#             json.dump(corpus, d)\n",
        "\n",
        "#     output = CharTrie()\n",
        "#     for word in corpus:\n",
        "#         output[word] = True\n",
        "#     return output\n",
        "\n",
        "\n",
        "# dictionary = get_dictionary()\n",
        "def get_dictionary(corpus=words.words()):\n",
        "    # Remove words greater than 4 letters\n",
        "    corpus = list(filter(lambda x: len(x) >= 4, corpus))\n",
        "\n",
        "    # Remove words starting with capital letters because they are likely to be names\n",
        "    corpus = list(filter(lambda x: x[0] not in string.ascii_uppercase, corpus))\n",
        "\n",
        "    output = CharTrie()\n",
        "    for word in corpus:\n",
        "        output[word] = True\n",
        "\n",
        "    return output\n",
        "\n",
        "dictionary = get_dictionary()\n",
        "\n",
        "# print(len(dictionary))\n",
        "# >>> 83111"
      ],
      "metadata": {
        "id": "-lHh039H87qe"
      },
      "execution_count": null,
      "outputs": []
    },
    {
      "cell_type": "code",
      "source": [
        "from unittest import TestCase\n",
        "# from preprocessing import *\n",
        "\n",
        "\n",
        "class Test(TestCase):\n",
        "    def test_remove_prefix(self):\n",
        "        self.assertEqual(remove_prefix(['a', 'ab'], \"\"), ['a'])\n",
        "        self.assertEqual(remove_prefix(['a', 'ab', 'ac'], \"\"), ['a'])\n",
        "        self.assertEqual(remove_prefix(['a', 'ab', 'ac', 'b', 'ba', 'bc'], \"\"), ['a', 'b'])\n",
        "        self.assertEqual(remove_prefix(['dog', 'doggy', 'doggie', 'dogbone'], \"\"), ['dog'])"
      ],
      "metadata": {
        "id": "zYqAv4R29H9Z"
      },
      "execution_count": null,
      "outputs": []
    },
    {
      "cell_type": "code",
      "source": [
        "\n",
        "def value(prefix, player, players_turn):\n",
        "    possible_words, possible_letters = search(dictionary, prefix)\n",
        "\n",
        "    if len(possible_letters) == 0:  # Check if game state is terminal\n",
        "        return get_score(player, possible_words[0])\n",
        "\n",
        "    if players_turn:  # Max if it is player's turn\n",
        "        v = -float(\"inf\")\n",
        "        for letter in possible_letters:\n",
        "            v = max(v, value(prefix+letter, player, 0))\n",
        "    else:  # Min if it is opponent's turn\n",
        "        v = float(\"inf\")\n",
        "        for letter in possible_letters:\n",
        "            v = min(v, value(prefix+letter, player, 1))\n",
        "\n",
        "    return v"
      ],
      "metadata": {
        "id": "63m9Tmk5919A"
      },
      "execution_count": null,
      "outputs": []
    },
    {
      "cell_type": "code",
      "source": [
        "# from helper_functions import *\n",
        "# from preprocessing import dictionary\n",
        "\n",
        "\n",
        "# def value(prefix, player, players_turn):\n",
        "#     possible_words, possible_letters = search(dictionary, prefix)\n",
        "\n",
        "#     # Check if game state is terminal, making use of the parity of the remaining words\n",
        "#     if len(possible_letters) == 0 or len(set(map(lambda x: len(x) % 2, possible_words))) == 1:\n",
        "#         return get_score(player, possible_words[0])\n",
        "\n",
        "#     if players_turn:\n",
        "#         v = -float(\"inf\")\n",
        "#         for letter in possible_letters:\n",
        "#             v = max(v, value(prefix+letter, player, 0))\n",
        "#             if v == 1:  # Alpha-beta pruning!\n",
        "#                 return v\n",
        "#     else:\n",
        "#         v = float(\"inf\")\n",
        "#         for letter in possible_letters:\n",
        "#             v = min(v, value(prefix+letter, player, 1))\n",
        "#             if v == 0:  # Alpha-beta pruning!\n",
        "#                 return v\n",
        "\n",
        "#     return v"
      ],
      "metadata": {
        "id": "izJRkxFY9NUw"
      },
      "execution_count": null,
      "outputs": []
    },
    {
      "cell_type": "code",
      "source": [
        "# from helper_functions import *\n",
        "# from preprocessing_simple import dictionary\n",
        "\n",
        "\n",
        "# def value(prefix, player, players_turn):\n",
        "#     possible_words, possible_letters = search(dictionary, prefix)\n",
        "\n",
        "#     if len(possible_letters) == 0:  # Check if game state is terminal\n",
        "#         return get_score(player, possible_words[0])\n",
        "\n",
        "#     if players_turn:  # Max if it is player's turn\n",
        "#         v = -float(\"inf\")\n",
        "#         for letter in possible_letters:\n",
        "#             v = max(v, value(prefix+letter, player, 0))\n",
        "#     else:  # Min if it is opponent's turn\n",
        "#         v = float(\"inf\")\n",
        "#         for letter in possible_letters:\n",
        "#             v = min(v, value(prefix+letter, player, 1))\n",
        "\n",
        "#     return v"
      ],
      "metadata": {
        "id": "Hvdxzs2V9QSY"
      },
      "execution_count": null,
      "outputs": []
    },
    {
      "cell_type": "code",
      "source": [
        "# from value import *\n",
        "# from value_simple import *\n",
        "\n",
        "\n",
        "# import time\n",
        "@timing\n",
        "def main(prefix):\n",
        "    # st=time.time()\n",
        "    possible_words, possible_letters = search(dictionary, prefix)\n",
        "    # et=time.time()\n",
        "    # print(et-st)\n",
        "    if len(possible_words) == 0:   # Ensure that the letters typed in can be used to form a word\n",
        "        print(\"No word can be formed!\\n\")\n",
        "        return\n",
        "\n",
        "    if len(possible_letters) == 0:  # If prefix is already an actual word\n",
        "        print(prefix, \"is already a word!\\n\")\n",
        "        return\n",
        "\n",
        "    player = (len(prefix)+1) % 2  # Assume that the player who plays the next letter wants to win\n",
        "\n",
        "    if len(possible_words) == 1:  # If only one possible word can be formed with prefix\n",
        "        word = possible_words[0]\n",
        "        print(\"The only possible word is\", word)\n",
        "        print(\"You win!\\n\") if get_score(player, word) == 1 else print(\"You lose:(\\n\")\n",
        "        return\n",
        "\n",
        "    scores = [value(prefix + letter, player, 0) for letter in possible_letters]\n",
        "    best_letters = [possible_letters[i] for i in range(len(scores)) if scores[i] == 1]\n",
        "\n",
        "    if not best_letters:  # If there is no possible way to win, just show all possible letters\n",
        "        print(\"There are no winning letters\")\n",
        "        print(\"Possible letters: \", \", \".join(possible_letters), \"\\n\")\n",
        "        return\n",
        "\n",
        "    print(\"Best letters to pick are:\", \", \".join(best_letters), \"\\n\")\n",
        "\n",
        "\n",
        "if __name__ == '__main__':\n",
        "    while True:\n",
        "        main(input(\"Starting letters: \"))\n",
        "\n",
        "# >>> Starting letters:\n",
        "# >>> Best letters to pick are: a, e, h, l"
      ],
      "metadata": {
        "colab": {
          "base_uri": "https://localhost:8080/",
          "height": 727
        },
        "id": "GeIx_dDw_a-y",
        "outputId": "c9d1162a-4758-4d3c-d9bf-7fa3d5f77721"
      },
      "execution_count": null,
      "outputs": [
        {
          "output_type": "stream",
          "name": "stdout",
          "text": [
            "Starting letters: m\n",
            "Best letters to pick are: b, l, p \n",
            "\n",
            "main took 0.313s to run\n",
            "\n",
            "Starting letters: me\n",
            "Best letters to pick are: a, c, g, j, y \n",
            "\n",
            "main took 0.070s to run\n",
            "\n",
            "Starting letters: med\n",
            "Best letters to pick are: a, u \n",
            "\n",
            "main took 0.006s to run\n",
            "\n",
            "Starting letters: mes\n",
            "Best letters to pick are: y \n",
            "\n",
            "main took 0.008s to run\n",
            "\n"
          ]
        },
        {
          "output_type": "error",
          "ename": "KeyboardInterrupt",
          "evalue": "ignored",
          "traceback": [
            "\u001b[0;31m---------------------------------------------------------------------------\u001b[0m",
            "\u001b[0;31mKeyboardInterrupt\u001b[0m                         Traceback (most recent call last)",
            "\u001b[0;32m<ipython-input-11-0e7627bf3cb5>\u001b[0m in \u001b[0;36m<cell line: 39>\u001b[0;34m()\u001b[0m\n\u001b[1;32m     39\u001b[0m \u001b[0;32mif\u001b[0m \u001b[0m__name__\u001b[0m \u001b[0;34m==\u001b[0m \u001b[0;34m'__main__'\u001b[0m\u001b[0;34m:\u001b[0m\u001b[0;34m\u001b[0m\u001b[0;34m\u001b[0m\u001b[0m\n\u001b[1;32m     40\u001b[0m     \u001b[0;32mwhile\u001b[0m \u001b[0;32mTrue\u001b[0m\u001b[0;34m:\u001b[0m\u001b[0;34m\u001b[0m\u001b[0;34m\u001b[0m\u001b[0m\n\u001b[0;32m---> 41\u001b[0;31m         \u001b[0mmain\u001b[0m\u001b[0;34m(\u001b[0m\u001b[0minput\u001b[0m\u001b[0;34m(\u001b[0m\u001b[0;34m\"Starting letters: \"\u001b[0m\u001b[0;34m)\u001b[0m\u001b[0;34m)\u001b[0m\u001b[0;34m\u001b[0m\u001b[0;34m\u001b[0m\u001b[0m\n\u001b[0m\u001b[1;32m     42\u001b[0m \u001b[0;34m\u001b[0m\u001b[0m\n\u001b[1;32m     43\u001b[0m \u001b[0;31m# >>> Starting letters:\u001b[0m\u001b[0;34m\u001b[0m\u001b[0;34m\u001b[0m\u001b[0m\n",
            "\u001b[0;32m/usr/local/lib/python3.10/dist-packages/ipykernel/kernelbase.py\u001b[0m in \u001b[0;36mraw_input\u001b[0;34m(self, prompt)\u001b[0m\n\u001b[1;32m    849\u001b[0m                 \u001b[0;34m\"raw_input was called, but this frontend does not support input requests.\"\u001b[0m\u001b[0;34m\u001b[0m\u001b[0;34m\u001b[0m\u001b[0m\n\u001b[1;32m    850\u001b[0m             )\n\u001b[0;32m--> 851\u001b[0;31m         return self._input_request(str(prompt),\n\u001b[0m\u001b[1;32m    852\u001b[0m             \u001b[0mself\u001b[0m\u001b[0;34m.\u001b[0m\u001b[0m_parent_ident\u001b[0m\u001b[0;34m,\u001b[0m\u001b[0;34m\u001b[0m\u001b[0;34m\u001b[0m\u001b[0m\n\u001b[1;32m    853\u001b[0m             \u001b[0mself\u001b[0m\u001b[0;34m.\u001b[0m\u001b[0m_parent_header\u001b[0m\u001b[0;34m,\u001b[0m\u001b[0;34m\u001b[0m\u001b[0;34m\u001b[0m\u001b[0m\n",
            "\u001b[0;32m/usr/local/lib/python3.10/dist-packages/ipykernel/kernelbase.py\u001b[0m in \u001b[0;36m_input_request\u001b[0;34m(self, prompt, ident, parent, password)\u001b[0m\n\u001b[1;32m    893\u001b[0m             \u001b[0;32mexcept\u001b[0m \u001b[0mKeyboardInterrupt\u001b[0m\u001b[0;34m:\u001b[0m\u001b[0;34m\u001b[0m\u001b[0;34m\u001b[0m\u001b[0m\n\u001b[1;32m    894\u001b[0m                 \u001b[0;31m# re-raise KeyboardInterrupt, to truncate traceback\u001b[0m\u001b[0;34m\u001b[0m\u001b[0;34m\u001b[0m\u001b[0m\n\u001b[0;32m--> 895\u001b[0;31m                 \u001b[0;32mraise\u001b[0m \u001b[0mKeyboardInterrupt\u001b[0m\u001b[0;34m(\u001b[0m\u001b[0;34m\"Interrupted by user\"\u001b[0m\u001b[0;34m)\u001b[0m \u001b[0;32mfrom\u001b[0m \u001b[0;32mNone\u001b[0m\u001b[0;34m\u001b[0m\u001b[0;34m\u001b[0m\u001b[0m\n\u001b[0m\u001b[1;32m    896\u001b[0m             \u001b[0;32mexcept\u001b[0m \u001b[0mException\u001b[0m \u001b[0;32mas\u001b[0m \u001b[0me\u001b[0m\u001b[0;34m:\u001b[0m\u001b[0;34m\u001b[0m\u001b[0;34m\u001b[0m\u001b[0m\n\u001b[1;32m    897\u001b[0m                 \u001b[0mself\u001b[0m\u001b[0;34m.\u001b[0m\u001b[0mlog\u001b[0m\u001b[0;34m.\u001b[0m\u001b[0mwarning\u001b[0m\u001b[0;34m(\u001b[0m\u001b[0;34m\"Invalid Message:\"\u001b[0m\u001b[0;34m,\u001b[0m \u001b[0mexc_info\u001b[0m\u001b[0;34m=\u001b[0m\u001b[0;32mTrue\u001b[0m\u001b[0;34m)\u001b[0m\u001b[0;34m\u001b[0m\u001b[0;34m\u001b[0m\u001b[0m\n",
            "\u001b[0;31mKeyboardInterrupt\u001b[0m: Interrupted by user"
          ]
        }
      ]
    }
  ]
}