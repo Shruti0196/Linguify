{
  "nbformat": 4,
  "nbformat_minor": 0,
  "metadata": {
    "colab": {
      "provenance": [],
      "authorship_tag": "ABX9TyNVwZcWkzMnepSsu2Ms8U/V",
      "include_colab_link": true
    },
    "kernelspec": {
      "name": "python3",
      "display_name": "Python 3"
    },
    "language_info": {
      "name": "python"
    }
  },
  "cells": [
    {
      "cell_type": "markdown",
      "metadata": {
        "id": "view-in-github",
        "colab_type": "text"
      },
      "source": [
        "<a href=\"https://colab.research.google.com/github/Shruti0196/Linguify/blob/main/Pronunciation_Checker.ipynb\" target=\"_parent\"><img src=\"https://colab.research.google.com/assets/colab-badge.svg\" alt=\"Open In Colab\"/></a>"
      ]
    },
    {
      "cell_type": "code",
      "execution_count": null,
      "metadata": {
        "id": "ZRt38htGnrBs"
      },
      "outputs": [],
      "source": [
        "!pip install SpeechRecognition"
      ]
    },
    {
      "cell_type": "code",
      "source": [
        "import speech_recognition as sr\n",
        "\n",
        "r = sr.Recognizer()\n",
        "\n",
        "def transcribe_audio(file_path):\n",
        "\n",
        "    with sr.AudioFile(file_path) as source:\n",
        "        audio = r.record(source)\n",
        "\n",
        "\n",
        "    transcript = r.recognize_google(audio)\n",
        "    print('Transcript : ',transcript)\n",
        "    return transcript\n",
        "\n",
        "\n",
        "# reference_pronunciation = \"and in fact I decided to become an astronomer like most astronomers do when I was just a young kid about 8 years old\"\n",
        "reference_pronunciation =input('Text: ')\n",
        "\n",
        "def score_pronunciation(transcript, reference):\n",
        "\n",
        "    transcript = transcript.lower().replace(\".\", \"\").replace(\",\", \"\")\n",
        "    distance = levenshtein_distance(transcript, reference)\n",
        "    score = 1.0 - (distance / max(len(transcript), len(reference)))\n",
        "    return score\n",
        "\n",
        "\n",
        "def levenshtein_distance(s1, s2):\n",
        "    if len(s1) > len(s2):\n",
        "        s1, s2 = s2, s1\n",
        "\n",
        "    distances = range(len(s1) + 1)\n",
        "    for i2, c2 in enumerate(s2):\n",
        "        distances_ = [i2 + 1]\n",
        "        for i1, c1 in enumerate(s1):\n",
        "            if c1 == c2:\n",
        "                distances_.append(distances[i1])\n",
        "            else:\n",
        "                distances_.append(1 + min((distances[i1], distances[i1 + 1], distances_[-1])))\n",
        "        distances = distances_\n",
        "\n",
        "    return distances[-1]\n",
        "\n",
        "\n",
        "audio_path = \"/content/drive/MyDrive/DMW Datasets/AudioClass/music.wav\"\n",
        "\n",
        "\n",
        "transcript = transcribe_audio(audio_path)\n",
        "\n",
        "\n",
        "score = score_pronunciation(transcript, reference_pronunciation)\n",
        "\n",
        "print(f\"Pronunciation score: {round(score*100,2)}\")\n",
        "\n",
        "#Accuracy : 95%"
      ],
      "metadata": {
        "id": "eVZKGQgpnu_v"
      },
      "execution_count": null,
      "outputs": []
    }
  ]
}