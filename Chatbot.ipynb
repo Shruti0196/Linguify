{
  "nbformat": 4,
  "nbformat_minor": 0,
  "metadata": {
    "colab": {
      "provenance": [],
      "authorship_tag": "ABX9TyMcAbVTEZH4Gqs7AFqXxN+O",
      "include_colab_link": true
    },
    "kernelspec": {
      "name": "python3",
      "display_name": "Python 3"
    },
    "language_info": {
      "name": "python"
    }
  },
  "cells": [
    {
      "cell_type": "markdown",
      "metadata": {
        "id": "view-in-github",
        "colab_type": "text"
      },
      "source": [
        "<a href=\"https://colab.research.google.com/github/Shruti0196/Linguify/blob/main/Chatbot.ipynb\" target=\"_parent\"><img src=\"https://colab.research.google.com/assets/colab-badge.svg\" alt=\"Open In Colab\"/></a>"
      ]
    },
    {
      "cell_type": "markdown",
      "source": [
        "# Using Text"
      ],
      "metadata": {
        "id": "da3UuaJ603Is"
      }
    },
    {
      "cell_type": "code",
      "source": [
        "pip install chatterbot"
      ],
      "metadata": {
        "colab": {
          "base_uri": "https://localhost:8080/"
        },
        "id": "4FZzlAQC4bGK",
        "outputId": "4bcdc087-2b1a-4653-8bf6-69f7693836a8"
      },
      "execution_count": null,
      "outputs": [
        {
          "output_type": "stream",
          "name": "stdout",
          "text": [
            "Collecting chatterbot\n",
            "  Using cached ChatterBot-1.0.5-py2.py3-none-any.whl (67 kB)\n",
            "Collecting mathparse<0.2,>=0.1 (from chatterbot)\n",
            "  Using cached mathparse-0.1.2-py3-none-any.whl (7.2 kB)\n",
            "Requirement already satisfied: nltk<4.0,>=3.2 in /usr/local/lib/python3.10/dist-packages (from chatterbot) (3.8.1)\n",
            "Collecting pint>=0.8.1 (from chatterbot)\n",
            "  Using cached Pint-0.22-py3-none-any.whl (294 kB)\n",
            "Collecting pymongo<4.0,>=3.3 (from chatterbot)\n",
            "  Using cached pymongo-3.13.0-cp310-cp310-manylinux_2_17_x86_64.manylinux2014_x86_64.whl (516 kB)\n",
            "Collecting python-dateutil<2.8,>=2.7 (from chatterbot)\n",
            "  Using cached python_dateutil-2.7.5-py2.py3-none-any.whl (225 kB)\n",
            "Collecting pyyaml<5.2,>=5.1 (from chatterbot)\n",
            "  Using cached PyYAML-5.1.2.tar.gz (265 kB)\n",
            "  Preparing metadata (setup.py) ... \u001b[?25l\u001b[?25hdone\n",
            "Collecting spacy<2.2,>=2.1 (from chatterbot)\n",
            "  Using cached spacy-2.1.9.tar.gz (30.7 MB)\n",
            "  \u001b[1;31merror\u001b[0m: \u001b[1msubprocess-exited-with-error\u001b[0m\n",
            "  \n",
            "  \u001b[31m×\u001b[0m \u001b[32mpip subprocess to install build dependencies\u001b[0m did not run successfully.\n",
            "  \u001b[31m│\u001b[0m exit code: \u001b[1;36m1\u001b[0m\n",
            "  \u001b[31m╰─>\u001b[0m See above for output.\n",
            "  \n",
            "  \u001b[1;35mnote\u001b[0m: This error originates from a subprocess, and is likely not a problem with pip.\n",
            "  Installing build dependencies ... \u001b[?25l\u001b[?25herror\n",
            "\u001b[1;31merror\u001b[0m: \u001b[1msubprocess-exited-with-error\u001b[0m\n",
            "\n",
            "\u001b[31m×\u001b[0m \u001b[32mpip subprocess to install build dependencies\u001b[0m did not run successfully.\n",
            "\u001b[31m│\u001b[0m exit code: \u001b[1;36m1\u001b[0m\n",
            "\u001b[31m╰─>\u001b[0m See above for output.\n",
            "\n",
            "\u001b[1;35mnote\u001b[0m: This error originates from a subprocess, and is likely not a problem with pip.\n"
          ]
        }
      ]
    },
    {
      "cell_type": "code",
      "source": [
        "# pip cache purge"
      ],
      "metadata": {
        "colab": {
          "base_uri": "https://localhost:8080/"
        },
        "id": "SSkhxJeM1_wh",
        "outputId": "5ee8bc81-f27c-4b06-9110-354e5f6339ad"
      },
      "execution_count": null,
      "outputs": [
        {
          "output_type": "stream",
          "name": "stdout",
          "text": [
            "Files removed: 42\n"
          ]
        }
      ]
    },
    {
      "cell_type": "code",
      "source": [
        "# pip install --no-deps chatterbot"
      ],
      "metadata": {
        "colab": {
          "base_uri": "https://localhost:8080/"
        },
        "id": "QZ7FDS6o2C6g",
        "outputId": "b5c15f1a-c62b-406b-aa16-30548341bc5c"
      },
      "execution_count": null,
      "outputs": [
        {
          "output_type": "stream",
          "name": "stdout",
          "text": [
            "Looking in indexes: https://pypi.org/simple, https://us-python.pkg.dev/colab-wheels/public/simple/\n",
            "Collecting chatterbot\n",
            "  Downloading ChatterBot-1.0.5-py2.py3-none-any.whl (67 kB)\n",
            "\u001b[2K     \u001b[90m━━━━━━━━━━━━━━━━━━━━━━━━━━━━━━━━━━━━━━━━\u001b[0m \u001b[32m67.8/67.8 kB\u001b[0m \u001b[31m3.2 MB/s\u001b[0m eta \u001b[36m0:00:00\u001b[0m\n",
            "\u001b[?25hInstalling collected packages: chatterbot\n",
            "Successfully installed chatterbot-1.0.5\n"
          ]
        }
      ]
    },
    {
      "cell_type": "code",
      "source": [
        "# pip install chatterbot_corpus"
      ],
      "metadata": {
        "colab": {
          "base_uri": "https://localhost:8080/",
          "height": 626
        },
        "id": "OZvTshLk2RYw",
        "outputId": "0137217e-ce5d-4051-aa55-96c12a3fdb6a"
      },
      "execution_count": null,
      "outputs": [
        {
          "output_type": "stream",
          "name": "stdout",
          "text": [
            "Looking in indexes: https://pypi.org/simple, https://us-python.pkg.dev/colab-wheels/public/simple/\n",
            "Collecting chatterbot_corpus\n",
            "  Downloading chatterbot_corpus-1.2.0-py2.py3-none-any.whl (117 kB)\n",
            "\u001b[2K     \u001b[90m━━━━━━━━━━━━━━━━━━━━━━━━━━━━━━━━━━━━━━━\u001b[0m \u001b[32m117.3/117.3 kB\u001b[0m \u001b[31m3.9 MB/s\u001b[0m eta \u001b[36m0:00:00\u001b[0m\n",
            "\u001b[?25hCollecting PyYAML<4.0,>=3.12 (from chatterbot_corpus)\n",
            "  Downloading PyYAML-3.13.tar.gz (270 kB)\n",
            "\u001b[2K     \u001b[90m━━━━━━━━━━━━━━━━━━━━━━━━━━━━━━━━━━━━━━\u001b[0m \u001b[32m270.6/270.6 kB\u001b[0m \u001b[31m13.7 MB/s\u001b[0m eta \u001b[36m0:00:00\u001b[0m\n",
            "\u001b[?25h  Preparing metadata (setup.py) ... \u001b[?25l\u001b[?25hdone\n",
            "Building wheels for collected packages: PyYAML\n",
            "  Building wheel for PyYAML (setup.py) ... \u001b[?25l\u001b[?25hdone\n",
            "  Created wheel for PyYAML: filename=PyYAML-3.13-cp310-cp310-linux_x86_64.whl size=43099 sha256=8175f6fe7d2af42035e4421c9a1e048a6ed094db6d6c00552e56c8ae1525c47f\n",
            "  Stored in directory: /root/.cache/pip/wheels/94/41/09/0bef356af2fb33b4dc9bfb531a5da2f001073567bde4ac4590\n",
            "Successfully built PyYAML\n",
            "Installing collected packages: PyYAML, chatterbot_corpus\n",
            "  Attempting uninstall: PyYAML\n",
            "    Found existing installation: PyYAML 6.0\n",
            "    Uninstalling PyYAML-6.0:\n",
            "      Successfully uninstalled PyYAML-6.0\n",
            "\u001b[31mERROR: pip's dependency resolver does not currently take into account all the packages that are installed. This behaviour is the source of the following dependency conflicts.\n",
            "chatterbot 1.0.5 requires mathparse<0.2,>=0.1, which is not installed.\n",
            "chatterbot 1.0.5 requires pint>=0.8.1, which is not installed.\n",
            "chatterbot 1.0.5 requires pymongo<4.0,>=3.3, which is not installed.\n",
            "chatterbot 1.0.5 requires python-dateutil<2.8,>=2.7, but you have python-dateutil 2.8.2 which is incompatible.\n",
            "chatterbot 1.0.5 requires pyyaml<5.2,>=5.1, but you have pyyaml 3.13 which is incompatible.\n",
            "chatterbot 1.0.5 requires spacy<2.2,>=2.1, but you have spacy 3.5.2 which is incompatible.\n",
            "chatterbot 1.0.5 requires sqlalchemy<1.3,>=1.2, but you have sqlalchemy 2.0.10 which is incompatible.\n",
            "dask 2022.12.1 requires pyyaml>=5.3.1, but you have pyyaml 3.13 which is incompatible.\n",
            "flax 0.6.9 requires PyYAML>=5.4.1, but you have pyyaml 3.13 which is incompatible.\u001b[0m\u001b[31m\n",
            "\u001b[0mSuccessfully installed PyYAML-3.13 chatterbot_corpus-1.2.0\n"
          ]
        },
        {
          "output_type": "display_data",
          "data": {
            "application/vnd.colab-display-data+json": {
              "pip_warning": {
                "packages": [
                  "yaml"
                ]
              }
            }
          },
          "metadata": {}
        }
      ]
    },
    {
      "cell_type": "code",
      "source": [
        "# pip install pint"
      ],
      "metadata": {
        "colab": {
          "base_uri": "https://localhost:8080/"
        },
        "id": "8X_5pz_O2rKO",
        "outputId": "854700cc-cac1-4716-8402-762c41f602c2"
      },
      "execution_count": null,
      "outputs": [
        {
          "output_type": "stream",
          "name": "stdout",
          "text": [
            "Looking in indexes: https://pypi.org/simple, https://us-python.pkg.dev/colab-wheels/public/simple/\n",
            "Collecting pint\n",
            "  Downloading Pint-0.22-py3-none-any.whl (294 kB)\n",
            "\u001b[2K     \u001b[90m━━━━━━━━━━━━━━━━━━━━━━━━━━━━━━━━━━━━━━━\u001b[0m \u001b[32m294.0/294.0 kB\u001b[0m \u001b[31m6.4 MB/s\u001b[0m eta \u001b[36m0:00:00\u001b[0m\n",
            "\u001b[?25hRequirement already satisfied: typing-extensions in /usr/local/lib/python3.10/dist-packages (from pint) (4.5.0)\n",
            "Installing collected packages: pint\n",
            "\u001b[31mERROR: pip's dependency resolver does not currently take into account all the packages that are installed. This behaviour is the source of the following dependency conflicts.\n",
            "chatterbot 1.0.5 requires mathparse<0.2,>=0.1, which is not installed.\n",
            "chatterbot 1.0.5 requires pymongo<4.0,>=3.3, which is not installed.\n",
            "chatterbot 1.0.5 requires python-dateutil<2.8,>=2.7, but you have python-dateutil 2.8.2 which is incompatible.\n",
            "chatterbot 1.0.5 requires pyyaml<5.2,>=5.1, but you have pyyaml 3.13 which is incompatible.\n",
            "chatterbot 1.0.5 requires spacy<2.2,>=2.1, but you have spacy 3.5.2 which is incompatible.\n",
            "chatterbot 1.0.5 requires sqlalchemy<1.3,>=1.2, but you have sqlalchemy 2.0.10 which is incompatible.\u001b[0m\u001b[31m\n",
            "\u001b[0mSuccessfully installed pint-0.22\n"
          ]
        }
      ]
    },
    {
      "cell_type": "code",
      "source": [
        "# pip install -U PyYaml==3.12"
      ],
      "metadata": {
        "colab": {
          "base_uri": "https://localhost:8080/",
          "height": 574
        },
        "id": "FnKzHQNw3K3s",
        "outputId": "64627993-f2b1-4c16-9adf-68cab2c23bc7"
      },
      "execution_count": null,
      "outputs": [
        {
          "output_type": "stream",
          "name": "stdout",
          "text": [
            "Looking in indexes: https://pypi.org/simple, https://us-python.pkg.dev/colab-wheels/public/simple/\n",
            "Collecting PyYaml==3.12\n",
            "  Downloading PyYAML-3.12.zip (375 kB)\n",
            "\u001b[2K     \u001b[90m━━━━━━━━━━━━━━━━━━━━━━━━━━━━━━━━━━━━━━━\u001b[0m \u001b[32m375.8/375.8 kB\u001b[0m \u001b[31m7.8 MB/s\u001b[0m eta \u001b[36m0:00:00\u001b[0m\n",
            "\u001b[?25h  Preparing metadata (setup.py) ... \u001b[?25l\u001b[?25hdone\n",
            "Building wheels for collected packages: PyYaml\n",
            "  Building wheel for PyYaml (setup.py) ... \u001b[?25l\u001b[?25hdone\n",
            "  Created wheel for PyYaml: filename=PyYAML-3.12-cp310-cp310-linux_x86_64.whl size=43072 sha256=03feccd823f8e63151fea73d1577db5fb872835022e75ba32129b61b79299781\n",
            "  Stored in directory: /root/.cache/pip/wheels/07/6e/47/016d2f3eb7e630a7ad552d6bdfbd570696d74267a47e88d48a\n",
            "Successfully built PyYaml\n",
            "Installing collected packages: PyYaml\n",
            "  Attempting uninstall: PyYaml\n",
            "    Found existing installation: PyYAML 3.13\n",
            "    Uninstalling PyYAML-3.13:\n",
            "      Successfully uninstalled PyYAML-3.13\n",
            "\u001b[31mERROR: pip's dependency resolver does not currently take into account all the packages that are installed. This behaviour is the source of the following dependency conflicts.\n",
            "chatterbot 1.0.5 requires mathparse<0.2,>=0.1, which is not installed.\n",
            "chatterbot 1.0.5 requires pymongo<4.0,>=3.3, which is not installed.\n",
            "chatterbot 1.0.5 requires python-dateutil<2.8,>=2.7, but you have python-dateutil 2.8.2 which is incompatible.\n",
            "chatterbot 1.0.5 requires pyyaml<5.2,>=5.1, but you have pyyaml 3.12 which is incompatible.\n",
            "chatterbot 1.0.5 requires spacy<2.2,>=2.1, but you have spacy 3.5.2 which is incompatible.\n",
            "chatterbot 1.0.5 requires sqlalchemy<1.3,>=1.2, but you have sqlalchemy 2.0.10 which is incompatible.\n",
            "astropy 5.2.2 requires PyYAML>=3.13, but you have pyyaml 3.12 which is incompatible.\n",
            "dask 2022.12.1 requires pyyaml>=5.3.1, but you have pyyaml 3.12 which is incompatible.\n",
            "flax 0.6.9 requires PyYAML>=5.4.1, but you have pyyaml 3.12 which is incompatible.\u001b[0m\u001b[31m\n",
            "\u001b[0mSuccessfully installed PyYaml-3.12\n"
          ]
        },
        {
          "output_type": "display_data",
          "data": {
            "application/vnd.colab-display-data+json": {
              "pip_warning": {
                "packages": [
                  "yaml"
                ]
              }
            }
          },
          "metadata": {}
        }
      ]
    },
    {
      "cell_type": "code",
      "source": [
        "# import chatterbot"
      ],
      "metadata": {
        "colab": {
          "base_uri": "https://localhost:8080/",
          "height": 304
        },
        "id": "kpfmuks9WWcg",
        "outputId": "66c24f41-c9ab-4bf0-bf94-988f729f9f7f"
      },
      "execution_count": null,
      "outputs": [
        {
          "output_type": "error",
          "ename": "ModuleNotFoundError",
          "evalue": "ignored",
          "traceback": [
            "\u001b[0;31m---------------------------------------------------------------------------\u001b[0m",
            "\u001b[0;31mModuleNotFoundError\u001b[0m                       Traceback (most recent call last)",
            "\u001b[0;32m<ipython-input-4-3747ba2fdfe0>\u001b[0m in \u001b[0;36m<cell line: 1>\u001b[0;34m()\u001b[0m\n\u001b[0;32m----> 1\u001b[0;31m \u001b[0;32mimport\u001b[0m \u001b[0mchatterbot\u001b[0m\u001b[0;34m\u001b[0m\u001b[0;34m\u001b[0m\u001b[0m\n\u001b[0m",
            "\u001b[0;31mModuleNotFoundError\u001b[0m: No module named 'chatterbot'",
            "",
            "\u001b[0;31m---------------------------------------------------------------------------\u001b[0;32m\nNOTE: If your import is failing due to a missing package, you can\nmanually install dependencies using either !pip or !apt.\n\nTo view examples of installing some common dependencies, click the\n\"Open Examples\" button below.\n\u001b[0;31m---------------------------------------------------------------------------\u001b[0m\n"
          ],
          "errorDetails": {
            "actions": [
              {
                "action": "open_url",
                "actionText": "Open Examples",
                "url": "/notebooks/snippets/importing_libraries.ipynb"
              }
            ]
          }
        }
      ]
    },
    {
      "cell_type": "code",
      "source": [
        "pip install chatterbot==1.0.4"
      ],
      "metadata": {
        "colab": {
          "base_uri": "https://localhost:8080/",
          "height": 1000
        },
        "id": "gZGVdF95XhwG",
        "outputId": "4a8a181c-e35e-439e-efe1-0ec7ad8fbb72"
      },
      "execution_count": null,
      "outputs": [
        {
          "output_type": "stream",
          "name": "stdout",
          "text": [
            "Collecting chatterbot==1.0.4\n",
            "  Downloading ChatterBot-1.0.4-py2.py3-none-any.whl (66 kB)\n",
            "\u001b[2K     \u001b[90m━━━━━━━━━━━━━━━━━━━━━━━━━━━━━━━━━━━━━━━━\u001b[0m \u001b[32m66.3/66.3 kB\u001b[0m \u001b[31m3.0 MB/s\u001b[0m eta \u001b[36m0:00:00\u001b[0m\n",
            "\u001b[?25hCollecting chatterbot-corpus<1.3,>=1.2 (from chatterbot==1.0.4)\n",
            "  Downloading chatterbot_corpus-1.2.0-py2.py3-none-any.whl (117 kB)\n",
            "\u001b[2K     \u001b[90m━━━━━━━━━━━━━━━━━━━━━━━━━━━━━━━━━━━━━━━\u001b[0m \u001b[32m117.3/117.3 kB\u001b[0m \u001b[31m8.0 MB/s\u001b[0m eta \u001b[36m0:00:00\u001b[0m\n",
            "\u001b[?25hCollecting mathparse<0.2,>=0.1 (from chatterbot==1.0.4)\n",
            "  Using cached mathparse-0.1.2-py3-none-any.whl (7.2 kB)\n",
            "Requirement already satisfied: nltk<4.0,>=3.2 in /usr/local/lib/python3.10/dist-packages (from chatterbot==1.0.4) (3.8.1)\n",
            "Collecting pymongo<4.0,>=3.3 (from chatterbot==1.0.4)\n",
            "  Using cached pymongo-3.13.0-cp310-cp310-manylinux_2_17_x86_64.manylinux2014_x86_64.whl (516 kB)\n",
            "Collecting python-dateutil<2.8,>=2.7 (from chatterbot==1.0.4)\n",
            "  Using cached python_dateutil-2.7.5-py2.py3-none-any.whl (225 kB)\n",
            "Collecting sqlalchemy<1.3,>=1.2 (from chatterbot==1.0.4)\n",
            "  Downloading SQLAlchemy-1.2.19.tar.gz (5.7 MB)\n",
            "\u001b[2K     \u001b[90m━━━━━━━━━━━━━━━━━━━━━━━━━━━━━━━━━━━━━━━━\u001b[0m \u001b[32m5.7/5.7 MB\u001b[0m \u001b[31m62.3 MB/s\u001b[0m eta \u001b[36m0:00:00\u001b[0m\n",
            "\u001b[?25h  Preparing metadata (setup.py) ... \u001b[?25l\u001b[?25hdone\n",
            "Collecting pint>=0.8.1 (from chatterbot==1.0.4)\n",
            "  Using cached Pint-0.22-py3-none-any.whl (294 kB)\n",
            "Collecting PyYAML<4.0,>=3.12 (from chatterbot-corpus<1.3,>=1.2->chatterbot==1.0.4)\n",
            "  Downloading PyYAML-3.13.tar.gz (270 kB)\n",
            "\u001b[2K     \u001b[90m━━━━━━━━━━━━━━━━━━━━━━━━━━━━━━━━━━━━━━\u001b[0m \u001b[32m270.6/270.6 kB\u001b[0m \u001b[31m27.5 MB/s\u001b[0m eta \u001b[36m0:00:00\u001b[0m\n",
            "\u001b[?25h  Preparing metadata (setup.py) ... \u001b[?25l\u001b[?25hdone\n",
            "Requirement already satisfied: click in /usr/local/lib/python3.10/dist-packages (from nltk<4.0,>=3.2->chatterbot==1.0.4) (8.1.3)\n",
            "Requirement already satisfied: joblib in /usr/local/lib/python3.10/dist-packages (from nltk<4.0,>=3.2->chatterbot==1.0.4) (1.2.0)\n",
            "Requirement already satisfied: regex>=2021.8.3 in /usr/local/lib/python3.10/dist-packages (from nltk<4.0,>=3.2->chatterbot==1.0.4) (2022.10.31)\n",
            "Requirement already satisfied: tqdm in /usr/local/lib/python3.10/dist-packages (from nltk<4.0,>=3.2->chatterbot==1.0.4) (4.65.0)\n",
            "Requirement already satisfied: typing-extensions in /usr/local/lib/python3.10/dist-packages (from pint>=0.8.1->chatterbot==1.0.4) (4.6.3)\n",
            "Requirement already satisfied: six>=1.5 in /usr/local/lib/python3.10/dist-packages (from python-dateutil<2.8,>=2.7->chatterbot==1.0.4) (1.16.0)\n",
            "Building wheels for collected packages: sqlalchemy, PyYAML\n",
            "  Building wheel for sqlalchemy (setup.py) ... \u001b[?25l\u001b[?25hdone\n",
            "  Created wheel for sqlalchemy: filename=SQLAlchemy-1.2.19-cp310-cp310-linux_x86_64.whl size=1158551 sha256=51e41721ed55e1b04437e894186d22d513b3ebbabb8eb4bfb474050fd5fdc08e\n",
            "  Stored in directory: /root/.cache/pip/wheels/09/3c/d1/e47093cb7942522d9cd7f2fd5a0108761d8b8bf5e2db63257f\n",
            "  Building wheel for PyYAML (setup.py) ... \u001b[?25l\u001b[?25hdone\n",
            "  Created wheel for PyYAML: filename=PyYAML-3.13-cp310-cp310-linux_x86_64.whl size=43099 sha256=f411a38d71ec362f7efdf7af93b3f0a043265569f077646d43e4327a2e5830f6\n",
            "  Stored in directory: /root/.cache/pip/wheels/94/41/09/0bef356af2fb33b4dc9bfb531a5da2f001073567bde4ac4590\n",
            "Successfully built sqlalchemy PyYAML\n",
            "Installing collected packages: sqlalchemy, PyYAML, mathparse, python-dateutil, pymongo, pint, chatterbot-corpus, chatterbot\n",
            "  Attempting uninstall: sqlalchemy\n",
            "    Found existing installation: SQLAlchemy 2.0.16\n",
            "    Uninstalling SQLAlchemy-2.0.16:\n",
            "      Successfully uninstalled SQLAlchemy-2.0.16\n",
            "  Attempting uninstall: PyYAML\n",
            "    Found existing installation: PyYAML 6.0\n",
            "    Uninstalling PyYAML-6.0:\n",
            "      Successfully uninstalled PyYAML-6.0\n",
            "  Attempting uninstall: python-dateutil\n",
            "    Found existing installation: python-dateutil 2.8.2\n",
            "    Uninstalling python-dateutil-2.8.2:\n",
            "      Successfully uninstalled python-dateutil-2.8.2\n",
            "\u001b[31mERROR: pip's dependency resolver does not currently take into account all the packages that are installed. This behaviour is the source of the following dependency conflicts.\n",
            "dask 2022.12.1 requires pyyaml>=5.3.1, but you have pyyaml 3.13 which is incompatible.\n",
            "flax 0.6.11 requires PyYAML>=5.4.1, but you have pyyaml 3.13 which is incompatible.\n",
            "pandas 1.5.3 requires python-dateutil>=2.8.1, but you have python-dateutil 2.7.5 which is incompatible.\n",
            "prophet 1.1.4 requires python-dateutil>=2.8.0, but you have python-dateutil 2.7.5 which is incompatible.\u001b[0m\u001b[31m\n",
            "\u001b[0mSuccessfully installed PyYAML-3.13 chatterbot-1.0.4 chatterbot-corpus-1.2.0 mathparse-0.1.2 pint-0.22 pymongo-3.13.0 python-dateutil-2.7.5 sqlalchemy-1.2.19\n"
          ]
        },
        {
          "output_type": "display_data",
          "data": {
            "application/vnd.colab-display-data+json": {
              "pip_warning": {
                "packages": [
                  "dateutil"
                ]
              }
            }
          },
          "metadata": {}
        }
      ]
    },
    {
      "cell_type": "code",
      "source": [
        "pip uninstall PyYaml"
      ],
      "metadata": {
        "colab": {
          "base_uri": "https://localhost:8080/"
        },
        "id": "ROfktWWOX5AV",
        "outputId": "cf315833-0fc6-4bc2-a6af-09171119741b"
      },
      "execution_count": null,
      "outputs": [
        {
          "output_type": "stream",
          "name": "stdout",
          "text": [
            "Found existing installation: PyYAML 3.13\n",
            "Uninstalling PyYAML-3.13:\n",
            "  Would remove:\n",
            "    /usr/local/lib/python3.10/dist-packages/PyYAML-3.13.dist-info/*\n",
            "    /usr/local/lib/python3.10/dist-packages/yaml/*\n",
            "Proceed (Y/n)? Y\n",
            "  Successfully uninstalled PyYAML-3.13\n"
          ]
        }
      ]
    },
    {
      "cell_type": "code",
      "source": [
        "pip install -U PyYaml==3.12"
      ],
      "metadata": {
        "colab": {
          "base_uri": "https://localhost:8080/",
          "height": 383
        },
        "id": "rnd7tIsaYAvu",
        "outputId": "921d8466-37a1-4267-a737-7ccb2cf1675e"
      },
      "execution_count": null,
      "outputs": [
        {
          "output_type": "stream",
          "name": "stdout",
          "text": [
            "Collecting PyYaml==3.12\n",
            "  Downloading PyYAML-3.12.zip (375 kB)\n",
            "\u001b[?25l     \u001b[90m━━━━━━━━━━━━━━━━━━━━━━━━━━━━━━━━━━━━━━━━\u001b[0m \u001b[32m0.0/375.8 kB\u001b[0m \u001b[31m?\u001b[0m eta \u001b[36m-:--:--\u001b[0m\r\u001b[2K     \u001b[91m━━━━━━━━━━━━━━━━━━━━━━━━━━━━━━━\u001b[0m\u001b[91m╸\u001b[0m\u001b[90m━━━━━━━\u001b[0m \u001b[32m307.2/375.8 kB\u001b[0m \u001b[31m9.0 MB/s\u001b[0m eta \u001b[36m0:00:01\u001b[0m\r\u001b[2K     \u001b[90m━━━━━━━━━━━━━━━━━━━━━━━━━━━━━━━━━━━━━━━\u001b[0m \u001b[32m375.8/375.8 kB\u001b[0m \u001b[31m8.0 MB/s\u001b[0m eta \u001b[36m0:00:00\u001b[0m\n",
            "\u001b[?25h  Preparing metadata (setup.py) ... \u001b[?25l\u001b[?25hdone\n",
            "Building wheels for collected packages: PyYaml\n",
            "  Building wheel for PyYaml (setup.py) ... \u001b[?25l\u001b[?25hdone\n",
            "  Created wheel for PyYaml: filename=PyYAML-3.12-cp310-cp310-linux_x86_64.whl size=43072 sha256=bed95e34b68658ea6c4599574df9b1ccb636d996274c4e97dadd140987f1dc02\n",
            "  Stored in directory: /root/.cache/pip/wheels/07/6e/47/016d2f3eb7e630a7ad552d6bdfbd570696d74267a47e88d48a\n",
            "Successfully built PyYaml\n",
            "Installing collected packages: PyYaml\n",
            "\u001b[31mERROR: pip's dependency resolver does not currently take into account all the packages that are installed. This behaviour is the source of the following dependency conflicts.\n",
            "astropy 5.2.2 requires PyYAML>=3.13, but you have pyyaml 3.12 which is incompatible.\n",
            "dask 2022.12.1 requires pyyaml>=5.3.1, but you have pyyaml 3.12 which is incompatible.\n",
            "flax 0.6.11 requires PyYAML>=5.4.1, but you have pyyaml 3.12 which is incompatible.\u001b[0m\u001b[31m\n",
            "\u001b[0mSuccessfully installed PyYaml-3.12\n"
          ]
        },
        {
          "output_type": "display_data",
          "data": {
            "application/vnd.colab-display-data+json": {
              "pip_warning": {
                "packages": [
                  "yaml"
                ]
              }
            }
          },
          "metadata": {}
        }
      ]
    },
    {
      "cell_type": "code",
      "source": [
        "import collections.abc\n",
        "collections.Hashable = collections.abc.Hashable"
      ],
      "metadata": {
        "id": "kSshQ_TkYgvp"
      },
      "execution_count": null,
      "outputs": []
    },
    {
      "cell_type": "code",
      "execution_count": null,
      "metadata": {
        "id": "xPAVouYz0tel",
        "colab": {
          "base_uri": "https://localhost:8080/"
        },
        "outputId": "522cf2da-859e-4687-df9e-04847716d4f5"
      },
      "outputs": [
        {
          "output_type": "stream",
          "name": "stderr",
          "text": [
            "[nltk_data] Downloading package averaged_perceptron_tagger to\n",
            "[nltk_data]     /root/nltk_data...\n",
            "[nltk_data]   Unzipping taggers/averaged_perceptron_tagger.zip.\n",
            "[nltk_data] Downloading package punkt to /root/nltk_data...\n",
            "[nltk_data]   Unzipping tokenizers/punkt.zip.\n",
            "[nltk_data] Downloading package stopwords to /root/nltk_data...\n",
            "[nltk_data]   Unzipping corpora/stopwords.zip.\n",
            "[nltk_data] Downloading package wordnet to /root/nltk_data...\n"
          ]
        },
        {
          "output_type": "stream",
          "name": "stdout",
          "text": [
            "Training greetings.yml: [####################] 100%\n",
            "Training conversations.yml: [####################] 100%\n",
            "Who are you?\n",
            "Who? Who is but a form following the function of what\n"
          ]
        }
      ],
      "source": [
        "\n",
        "from chatterbot import ChatBot\n",
        "\n",
        "from chatterbot.trainers import ChatterBotCorpusTrainer\n",
        "\n",
        "\n",
        "chatbot=ChatBot('corona bot')\n",
        "\n",
        "trainer = ChatterBotCorpusTrainer(chatbot)\n",
        "\n",
        "trainer.train(\"chatterbot.corpus.english.greetings\",\n",
        "\t\t\t\"chatterbot.corpus.english.conversations\" )\n",
        "\n",
        "response = chatbot.get_response('What is your Number')\n",
        "print(response)\n",
        "\n",
        "response = chatbot.get_response('Who are you?')\n",
        "print(response)\n"
      ]
    },
    {
      "cell_type": "code",
      "source": [
        "response = chatbot.get_response('How are you?')\n",
        "print(response)"
      ],
      "metadata": {
        "colab": {
          "base_uri": "https://localhost:8080/"
        },
        "id": "ny7JJezrYpNt",
        "outputId": "dd11e5a9-0dfb-4f99-d7d7-12c9888e235c"
      },
      "execution_count": null,
      "outputs": [
        {
          "output_type": "stream",
          "name": "stdout",
          "text": [
            "I am doing well.\n"
          ]
        }
      ]
    }
  ]
}